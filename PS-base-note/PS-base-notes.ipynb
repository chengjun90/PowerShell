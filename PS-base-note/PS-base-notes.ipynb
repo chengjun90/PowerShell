{
 "cells": [
  {
   "cell_type": "markdown",
   "metadata": {},
   "source": [
    "# 前言"
   ]
  },
  {
   "cell_type": "markdown",
   "metadata": {},
   "source": [
    "## 笔记作者"
   ]
  },
  {
   "cell_type": "markdown",
   "metadata": {},
   "source": [
    "实证研究小青年。\n",
    "\n",
    "日常研究和关注经济、金融与会计等领域的问题，主要采用计量经济学和其他数据分析手法撰写学术论 文和研究报告。\n",
    "\n",
    "研究之余，泛读文史哲，关注自由与开源动态。在日常研究和工作中，喜欢使用最新的软件工具，并且喜欢选用自由和开源工具。\n",
    "\n",
    "邮箱：cheng081@qq.com\n",
    "\n",
    "Github：https://github.com/chengjun90\n",
    "\n",
    "欢迎交流。"
   ]
  },
  {
   "cell_type": "markdown",
   "metadata": {},
   "source": [
    "## 学习目的"
   ]
  },
  {
   "cell_type": "markdown",
   "metadata": {},
   "source": [
    "不是完整的掌握PowerShell，而是了解基本的PowerShell的应用，方便在研究工作和生活中需要的时候用一点脚本。\n",
    "\n",
    "比如：\n",
    "\n",
    "- *Data Science at the Command Line*\n",
    "- Command Line Tricks For Data Scientists"
   ]
  },
  {
   "cell_type": "markdown",
   "metadata": {},
   "source": [
    "## 准备工作"
   ]
  },
  {
   "cell_type": "markdown",
   "metadata": {},
   "source": [
    "### 安装Python+Jupyter Lab\n",
    "这个就不说了，很好安装。直接搜索。"
   ]
  },
  {
   "cell_type": "markdown",
   "metadata": {},
   "source": [
    "### 安装PowerShell Kernel\n",
    "\n",
    "可以使用这里https://github.com/vors/jupyter-powershell提供的包。\n",
    "```python\n",
    "pip install powershell_kernel\n",
    "python -m powershell_kernel.install\n",
    "```\n",
    "\n",
    "这样就可以在Jupyter Lab中学习和使用Powershell了。"
   ]
  },
  {
   "cell_type": "markdown",
   "metadata": {},
   "source": [
    "## 学习环境"
   ]
  },
  {
   "cell_type": "markdown",
   "metadata": {},
   "source": [
    "### 系统自带的Powershell\n",
    "这里是Powershell版本是5.1。"
   ]
  },
  {
   "cell_type": "code",
   "execution_count": 1,
   "metadata": {},
   "outputs": [
    {
     "name": "stdout",
     "output_type": "stream",
     "text": [
      "\n",
      "Name                           Value                                                                                   \n",
      "----                           -----                                                                                   \n",
      "PSVersion                      5.1.17134.228                                                                           \n",
      "PSEdition                      Desktop                                                                                 \n",
      "PSCompatibleVersions           {1.0, 2.0, 3.0, 4.0...}                                                                 \n",
      "BuildVersion                   10.0.17134.228                                                                          \n",
      "CLRVersion                     4.0.30319.42000                                                                         \n",
      "WSManStackVersion              3.0                                                                                     \n",
      "PSRemotingProtocolVersion      2.3                                                                                     \n",
      "SerializationVersion           1.1.0.1                                                                                 \n",
      "\n",
      "\n"
     ]
    }
   ],
   "source": [
    "$psversiontable"
   ]
  },
  {
   "cell_type": "markdown",
   "metadata": {},
   "source": [
    "### Powershell Core\n",
    "\n",
    "当然也可以自行安装跨平台的[Powershell Core](https://github.com/PowerShell/PowerShell/releases)。\n",
    "\n",
    "```powershell\n",
    "PS C:\\Users\\Cheng> $psversiontable\n",
    "\n",
    "Name                           Value\n",
    "----                           -----\n",
    "PSVersion                      6.1.0\n",
    "PSEdition                      Core\n",
    "GitCommitId                    6.1.0\n",
    "OS                             Microsoft Windows 10.0.17134\n",
    "Platform                       Win32NT\n",
    "PSCompatibleVersions           {1.0, 2.0, 3.0, 4.0...}\n",
    "PSRemotingProtocolVersion      2.3\n",
    "SerializationVersion           1.1.0.1\n",
    "WSManStackVersion              3.0\n",
    "```\n",
    "\n",
    "2018年，Powershell Core已经支持utf-8编码了，可以使用第三方字体，例如[Source Code Pro](https://github.com/adobe-fonts/source-code-pro)。\n",
    "\n",
    "![](image/ps5-core.png)"
   ]
  },
  {
   "cell_type": "markdown",
   "metadata": {},
   "source": [
    "## 编辑和运行命令"
   ]
  },
  {
   "cell_type": "markdown",
   "metadata": {},
   "source": [
    "### 启动Powershell\n",
    "\n",
    "直接在窗口输入“Powershell”，然后点击。\n",
    "\n",
    "如果是想调用Powershell Core，那么就输入“pwsh”。\n",
    "\n",
    "![](image/ps1.png)"
   ]
  },
  {
   "cell_type": "markdown",
   "metadata": {},
   "source": [
    "### 以管理者权限模式启动Powershell\n",
    "\n",
    "例如在按照Python包的时候，常常需要进入这种模式。\n",
    "\n",
    "![](image/ps2-ad.png)"
   ]
  },
  {
   "cell_type": "markdown",
   "metadata": {},
   "source": [
    "### 输入命令\n",
    "![](image/ps3-code.png)"
   ]
  },
  {
   "cell_type": "markdown",
   "metadata": {},
   "source": [
    "### 在VS Code中编辑和运行命令\n",
    "\n",
    "Powershell文件的类型名称是ps1。\n",
    "\n",
    "点击1或者2来运行Powershell命令。"
   ]
  },
  {
   "cell_type": "markdown",
   "metadata": {},
   "source": [
    "![](image/ps4-run.png)"
   ]
  },
  {
   "cell_type": "markdown",
   "metadata": {},
   "source": [
    "## 参考材料\n",
    "- [微软PowerShell材料](https://docs.microsoft.com/zh-cn/powershell/scripting/powershell-scripting?view=powershell-6)\n",
    "- *Learn Windows PowerShell in a Month of Lunches*"
   ]
  },
  {
   "cell_type": "markdown",
   "metadata": {},
   "source": [
    "# 基础"
   ]
  },
  {
   "cell_type": "markdown",
   "metadata": {},
   "source": [
    "## 帮助\n",
    "善于使用Get-Help命令来查找帮助文件"
   ]
  },
  {
   "cell_type": "code",
   "execution_count": 2,
   "metadata": {},
   "outputs": [
    {
     "name": "stdout",
     "output_type": "stream",
     "text": [
      "\n",
      "■■■    Get-ChildItem\n",
      "    \n",
      "■■■\n",
      "    Get-ChildItem [[-Path] <string[]>] [[-Filter] <string>]  [<CommonParameters>]\n",
      "    \n",
      "    Get-ChildItem [[-Filter] <string>]  [<CommonParameters>]\n",
      "    \n",
      "\n",
      "■■■\n",
      "    gci\n",
      "    ls\n",
      "    dir\n",
      "    \n",
      "\n",
      "■■ע\n",
      "    Get-Help ■■˼■■■■■■■■■■cmdlet ■İ■■■■■■■■■■■ʾ■■■ְ■■■■\n",
      "        -- ■Ҫ■■■■■■װ■■■■■■cmdlet ■■■■■■■■■■■■■■ʹ■ Update-Help■■\n",
      "        -- ■Ҫ■■■■■鿴■■cmdlet ■İ■■■■■■■■■■: \"Get-Help Get-ChildItem -Online\" ■■\n",
      "           ת■■ https://go.microsoft.com/fwlink/?LinkID=113308■■\n",
      "\n",
      "\n",
      "\n"
     ]
    }
   ],
   "source": [
    "Get-Help Get-ChildItem"
   ]
  },
  {
   "cell_type": "markdown",
   "metadata": {},
   "source": [
    "有的时候命令记不全，那么可以使用Tab键来补全命令。\n",
    "\n",
    "或者使用Show-Command命令来帮助自己。Show-Command可以弹出窗口来选择命令、填写命令参数。"
   ]
  },
  {
   "cell_type": "markdown",
   "metadata": {},
   "source": [
    "## 别名\n",
    "Powershell的命令很多有别名，可以理解成命令的简短昵称，便于输入命令。"
   ]
  },
  {
   "cell_type": "code",
   "execution_count": 3,
   "metadata": {},
   "outputs": [
    {
     "name": "stdout",
     "output_type": "stream",
     "text": [
      "\n",
      "CommandType     Name                                               Version    Source                                   \n",
      "-----------     ----                                               -------    ------                                   \n",
      "Alias           cd -> Set-Location                                                                                     \n",
      "Alias           chdir -> Set-Location                                                                                  \n",
      "Alias           sl -> Set-Location                                                                                     \n",
      "\n",
      "\n"
     ]
    }
   ],
   "source": [
    "Get-Alias -Definition \"Set-Location\""
   ]
  },
  {
   "cell_type": "code",
   "execution_count": 4,
   "metadata": {},
   "outputs": [
    {
     "name": "stdout",
     "output_type": "stream",
     "text": [
      "\n",
      "CommandType     Name                                               Version    Source                                   \n",
      "-----------     ----                                               -------    ------                                   \n",
      "Alias           dir -> Get-ChildItem                                                                                   \n",
      "Alias           gci -> Get-ChildItem                                                                                   \n",
      "Alias           ls -> Get-ChildItem                                                                                    \n",
      "\n",
      "\n"
     ]
    }
   ],
   "source": [
    "Get-Alias -Definition \"Get-ChildItem\""
   ]
  },
  {
   "cell_type": "markdown",
   "metadata": {},
   "source": [
    "## 清理屏幕\n",
    "\n",
    "直接使用cls命令即可。"
   ]
  },
  {
   "cell_type": "markdown",
   "metadata": {},
   "source": [
    "# 文件操作"
   ]
  },
  {
   "cell_type": "markdown",
   "metadata": {},
   "source": [
    "## 设置路径\n",
    "比如我们常常需要切换工作路径。这个时候需要使用Set-Location命令。\n",
    "\n",
    "不过我常常使用其别名cd。\n",
    "```powershell\n",
    "cd D:\\tempcode\n",
    "Set-Location D:\\tempcode\n",
    "```"
   ]
  },
  {
   "cell_type": "markdown",
   "metadata": {},
   "source": [
    "## 生成文件和文件夹\n",
    "`mkdir`可以直接生成文件夹。\n",
    "```powershell\n",
    "mkdir test\n",
    "```\n",
    "\n",
    "通用的可以使用`New-Item`。\n",
    "```powershell\n",
    "New-Item \"D:\\tempcode\\ps code\" -Type Directory\n",
    "New-Item \"D:\\tempcode\\ps code\\note.txt\" -Type File\n",
    "```"
   ]
  },
  {
   "cell_type": "markdown",
   "metadata": {},
   "source": [
    "## 删除文件\n",
    "通用的可以使用New-Item。\n",
    "\n",
    "删除文件：\n",
    "```powershell\n",
    "Remove-Item \"D:\\tempcode\\ps code\\note.txt\"\n",
    "```\n",
    "\n",
    "删除整个文件夹和子文件：\n",
    "```powershell\n",
    "Remove-Item \"D:\\tempcode\\ps code\" -recurse\n",
    "```"
   ]
  },
  {
   "cell_type": "markdown",
   "metadata": {},
   "source": [
    "## 管道操作\n",
    "\n",
    "PowerShell通过管道（pipeline）把命令互相连接起来。\n",
    "\n",
    "$f_1(x_1) \\rightarrow f_2(x_2) \\rightarrow f_3(x_3)$\n",
    "\n",
    "这样就可以把命令连接起来。\n"
   ]
  },
  {
   "cell_type": "markdown",
   "metadata": {},
   "source": [
    "对指定文件夹下面的全部文件，按照文件大小降序排列，并且列示前10个文件的文件名。"
   ]
  },
  {
   "cell_type": "code",
   "execution_count": 5,
   "metadata": {},
   "outputs": [
    {
     "name": "stdout",
     "output_type": "stream",
     "text": [
      "\n",
      "Name                          \n",
      "----                          \n",
      "test.exe                      \n",
      "PS-base-notes.pdf             \n",
      "ps4-run.png                   \n",
      "ps5-core.png                  \n",
      "ps3-code.png                  \n",
      "ps1.png                       \n",
      "ps2-ad.png                    \n",
      "PS-base-notes.tex             \n",
      "PS-base-notes.log             \n",
      "PS-base-notes-checkpoint.ipynb\n",
      "\n",
      "\n"
     ]
    }
   ],
   "source": [
    "dir D:\\tempcode -Recurse | \n",
    "Sort-Object -Property length -Descending  | \n",
    "Select-Object  -Property Name -First 10"
   ]
  },
  {
   "cell_type": "markdown",
   "metadata": {},
   "source": [
    "命令结果还可以导出到文件中去。\n",
    "```powershell\n",
    "Dir > DirectoryList.txt\n",
    "```\n",
    "或者是\n",
    "```powershell\n",
    "Dir |\n",
    "Out-File DirectoryList.txt\n",
    "```"
   ]
  },
  {
   "cell_type": "markdown",
   "metadata": {},
   "source": [
    "# 对象"
   ]
  },
  {
   "cell_type": "markdown",
   "metadata": {},
   "source": [
    "有了对象之后，就有对象的标签（属性）和对象的行为（方法）。"
   ]
  },
  {
   "cell_type": "markdown",
   "metadata": {},
   "source": [
    "## 选择对象属性\n",
    "这个主要是Select-Object命令。"
   ]
  },
  {
   "cell_type": "code",
   "execution_count": 6,
   "metadata": {},
   "outputs": [
    {
     "name": "stdout",
     "output_type": "stream",
     "text": [
      "cd D:\\tempcode\n",
      "ls | Select-Object -property Name,Length\n",
      "\n",
      "Name               Length \n",
      "----               ------ \n",
      ".ipynb_checkpoints        \n",
      ".vscode                   \n",
      "ps code                   \n",
      "PS-base-note              \n",
      "test                      \n",
      "test-site                 \n",
      "1-query-pq.py      517    \n",
      "2-create-table.py  1139   \n",
      "data.json          516    \n",
      "DirectoryList.txt  5634   \n",
      "jsondata.py        463    \n",
      "juliadoc.py        470    \n",
      "learn.py           53     \n",
      "tempcode.Rproj     248    \n",
      "test.cpp           104    \n",
      "test.exe           3071535\n",
      "test.txt           145    \n",
      "testFolder         0      \n",
      "txt-line-number.py 503    \n",
      "Untitled.ipynb     1013   \n",
      "■■ӻ■.R           244    \n",
      "■■■■■■sql       46     \n",
      "\n",
      "\n",
      "\n"
     ]
    }
   ],
   "source": [
    "cd D:\\tempcode\n",
    "ls | Select-Object -property Name,Length"
   ]
  },
  {
   "cell_type": "markdown",
   "metadata": {},
   "source": [
    "## 对象排序"
   ]
  },
  {
   "cell_type": "markdown",
   "metadata": {},
   "source": [
    "这里主要用到Sort-Object。"
   ]
  },
  {
   "cell_type": "code",
   "execution_count": 7,
   "metadata": {},
   "outputs": [
    {
     "name": "stdout",
     "output_type": "stream",
     "text": [
      "\n",
      "\n",
      "    Ŀ¼: D:\\tempcode\n",
      "\n",
      "\n",
      "Mode                LastWriteTime         Length Name                                                                  \n",
      "----                -------------         ------ ----                                                                  \n",
      "d-----        2018/9/29     14:05                .ipynb_checkpoints                                                    \n",
      "d-----        2018/9/25     22:14                .vscode                                                               \n",
      "-a----        2018/9/19     16:03            517 1-query-pq.py                                                         \n",
      "-a----        2018/9/18     21:16           1139 2-create-table.py                                                     \n",
      "-a----        2018/9/21      9:28            516 data.json                                                             \n",
      "-a----        2018/9/29     10:26           5634 DirectoryList.txt                                                     \n",
      "-a----        2018/9/21      9:27            463 jsondata.py                                                           \n",
      "-a----        2018/9/19     20:24            470 juliadoc.py                                                           \n",
      "-a----        2018/9/26      9:48             53 learn.py                                                              \n",
      "d-----        2018/9/29     15:42                ps code                                                               \n",
      "d-----        2018/9/29     16:13                PS-base-note                                                          \n",
      "-a----        2018/9/15     20:06            248 tempcode.Rproj                                                        \n",
      "d-----        2018/9/29      9:58                test                                                                  \n",
      "-a----        2018/9/29     15:49            104 test.cpp                                                              \n",
      "-a----        2018/9/29     15:49        3071535 test.exe                                                              \n",
      "-a----        2018/9/23     11:43            145 test.txt                                                              \n",
      "-a----        2018/9/29      9:56              0 testFolder                                                            \n",
      "d-----        2018/9/18     15:52                test-site                                                             \n",
      "-a----        2018/9/23     12:00            503 txt-line-number.py                                                    \n",
      "-a----        2018/9/27     16:33           1013 Untitled.ipynb                                                        \n",
      "-a----        2018/9/19     16:03             46 ■■■■■■sql                                                          \n",
      "-a----        2018/9/15     20:12            244 ■■ӻ■.R                                                              \n",
      "\n",
      "\n"
     ]
    }
   ],
   "source": [
    "ls | Sort-Object -property Name,Length"
   ]
  },
  {
   "cell_type": "markdown",
   "metadata": {},
   "source": [
    "## 筛选"
   ]
  },
  {
   "cell_type": "markdown",
   "metadata": {},
   "source": [
    "### 直接筛选"
   ]
  },
  {
   "cell_type": "markdown",
   "metadata": {},
   "source": [
    "按照文件名称进行筛选文件。\n",
    "```powershell\n",
    "ls -name *.py\n",
    "ls -name t*.py\n",
    "ls -name *.py,*.cpp\n",
    "```"
   ]
  },
  {
   "cell_type": "markdown",
   "metadata": {},
   "source": [
    "或者是`-Include`参数，可以实现对文件按照类型名称进行筛选。\n",
    "\n",
    "```powershell\n",
    "Get-ChildItem D:\\tempcode -Recurse -Include *.py,*.ipynb\n",
    "```"
   ]
  },
  {
   "cell_type": "markdown",
   "metadata": {},
   "source": [
    "### 使用-filter"
   ]
  },
  {
   "cell_type": "code",
   "execution_count": 8,
   "metadata": {},
   "outputs": [
    {
     "name": "stdout",
     "output_type": "stream",
     "text": []
    }
   ],
   "source": [
    "ls -filter \"Name -like '*.py'\""
   ]
  },
  {
   "cell_type": "markdown",
   "metadata": {},
   "source": [
    "### Where-Object\n",
    "更复杂的情况，可以使用`Where-Object`（别名为`Where`）来筛选。\n",
    "\n",
    "这个时候需要用到比较运算符：\n",
    "\n",
    "- `-eq`，相等\n",
    "- `-ne`，不等于\n",
    "- `-ge`和`-le`，大于或等于，小于或等于\n",
    "- `-gt`和`-lt`，大于和小于\n",
    "\n",
    "如果需要区分字符大小写，可以使用:`-ceq`，`-cne`，`-cgt`，`-clt`，`-cge`，`-cle`。\n",
    "\n",
    "布尔运算符:\n",
    "- `-and`\n",
    "- `-or`\n",
    "- `-not`\n",
    "\n",
    "```powershell\n",
    "PS D:\\tempcode>  (12 -gt 8) -and (12 -ne 12)\n",
    "False\n",
    "```\n",
    "\n",
    "比较文本字符串时，还有几个常用的比较运算符：\n",
    "\n",
    "- `-like`，接受*作为一个通配符，来比较字符,忽略大小写\n",
    "- `-notlike`，忽略大小写\n",
    "- `-clike`，区分大小写\n",
    "- `-cnotlike`，区分大小写\n",
    "- `-match`，正则表达式匹配，忽略大小写\n",
    "- `-notmatch`，忽略大小写\n",
    "- `-cmatch`，区分大小写\n",
    "- `-cnotmatch`，区分大小写"
   ]
  },
  {
   "cell_type": "code",
   "execution_count": 9,
   "metadata": {},
   "outputs": [
    {
     "name": "stdout",
     "output_type": "stream",
     "text": [
      "\n",
      "Name      \n",
      "----      \n",
      "test      \n",
      "test-site \n",
      "test.cpp  \n",
      "test.exe  \n",
      "test.txt  \n",
      "testFolder\n",
      "\n",
      "\n"
     ]
    }
   ],
   "source": [
    "dir D:\\tempcode | \n",
    "Where-Object -filter {$_.Name -like \"*test*\"} |\n",
    "Select-Object -Property Name"
   ]
  },
  {
   "cell_type": "markdown",
   "metadata": {},
   "source": [
    "# 变量"
   ]
  },
  {
   "cell_type": "markdown",
   "metadata": {},
   "source": [
    "变量可以直接生成。\n",
    "\n",
    "`Remove-Variable`可以删除变量。\n",
    "```\n",
    "PS D:\\tempcode> $ind=\"C28\"\n",
    "PS D:\\tempcode> $ind\n",
    "C28\n",
    "PS D:\\tempcode> $roa=0.12\n",
    "PS D:\\tempcode> $roa\n",
    "0.12\n",
    "PS D:\\tempcode> Remove-Variable ind,roa\n",
    "PS D:\\tempcode> $ind\n",
    "PS D:\\tempcode>\n",
    "```"
   ]
  },
  {
   "cell_type": "markdown",
   "metadata": {},
   "source": [
    "# 判断\n",
    "- IF-ELSEIF-ELSE\n",
    "- Switch"
   ]
  },
  {
   "cell_type": "code",
   "execution_count": 10,
   "metadata": {},
   "outputs": [
    {
     "name": "stdout",
     "output_type": "stream",
     "text": [
      "$value=0\n",
      "If( $value -eq 1 )\n",
      ">> {\n",
      ">>     \"A\"\n",
      ">> }\n",
      ">> Elseif( $value -eq 2)\n",
      ">> {\n",
      ">>     \"B\"\n",
      ">> }\n",
      ">> Else\n",
      ">> {\n",
      ">>     \"C\"\n",
      ">> }\n",
      ">> \n",
      "C\n"
     ]
    }
   ],
   "source": [
    "$value=0\n",
    "If( $value -eq 1 )\n",
    "{\n",
    "    \"A\"\n",
    "}\n",
    "Elseif( $value -eq 2)\n",
    "{\n",
    "    \"B\"\n",
    "}\n",
    "Else\n",
    "{\n",
    "    \"C\"\n",
    "}"
   ]
  },
  {
   "cell_type": "code",
   "execution_count": 11,
   "metadata": {},
   "outputs": [
    {
     "name": "stdout",
     "output_type": "stream",
     "text": [
      "$value=1\n",
      "switch($value)\n",
      ">> {\n",
      ">>     1 {\"A\"}\n",
      ">>     2 {\"B\"}\n",
      ">>     3 {\"C\"}\n",
      ">> }\n",
      ">> \n",
      "A\n"
     ]
    }
   ],
   "source": [
    "$value=1\n",
    "switch($value)\n",
    "{\n",
    "    1 {\"A\"}\n",
    "    2 {\"B\"}\n",
    "    3 {\"C\"}\n",
    "}"
   ]
  },
  {
   "cell_type": "markdown",
   "metadata": {},
   "source": [
    "# 循环"
   ]
  },
  {
   "cell_type": "markdown",
   "metadata": {},
   "source": [
    "- ForEach-Object\n",
    "- Foreach\n",
    "- Do While\n",
    "- For\n",
    "- Switch"
   ]
  },
  {
   "cell_type": "code",
   "execution_count": 12,
   "metadata": {},
   "outputs": [
    {
     "name": "stdout",
     "output_type": "stream",
     "text": [
      ".ipynb_checkpoints\n",
      "image\n",
      "notes.ps1\n",
      "PS-base-notes.ipynb\n",
      "PS-base-notes.log\n",
      "PS-base-notes.pdf\n",
      "PS-base-notes.tex\n"
     ]
    }
   ],
   "source": [
    "dir D:\\tempcode\\PS-base-note | ForEach-Object {$_.Name}"
   ]
  },
  {
   "cell_type": "code",
   "execution_count": 13,
   "metadata": {},
   "outputs": [
    {
     "name": "stdout",
     "output_type": "stream",
     "text": [
      "$x=1..3\n",
      "foreach ($i in $x)\n",
      ">> {\n",
      ">>     $i*2\n",
      ">> }\n",
      ">> \n",
      "2\n",
      "4\n",
      "6\n"
     ]
    }
   ],
   "source": [
    "$x=1..3\n",
    "foreach ($i in $x)\n",
    "{\n",
    "    $i*2\n",
    "}"
   ]
  },
  {
   "cell_type": "code",
   "execution_count": 14,
   "metadata": {},
   "outputs": [
    {
     "name": "stdout",
     "output_type": "stream",
     "text": [
      "year2014\n",
      "year-2014\n",
      "year2015\n",
      "year-2015\n",
      "year2016\n",
      "year-2016\n",
      "year2017\n",
      "year-2017\n",
      "year2018\n",
      "year-2018\n"
     ]
    }
   ],
   "source": [
    "for($year=2014; $year -le 2018; $year ++)\n",
    "{\n",
    "    \"year\"+$year\n",
    "    -Join(\"year-\",$year)\n",
    "}"
   ]
  },
  {
   "cell_type": "markdown",
   "metadata": {},
   "source": [
    "# 执行外部命令"
   ]
  },
  {
   "cell_type": "markdown",
   "metadata": {},
   "source": [
    "## 当前目录下\n",
    "\n",
    "例如编写一个简单的C++代码，然后编译成exe文件。\n",
    "```C++\n",
    "#include <iostream>\n",
    "\n",
    "using namespace std;\n",
    "\n",
    "int main()\n",
    "{\n",
    "cout << \"code 123\" << endl;\n",
    "return 0;\n",
    "}\n",
    "```\n",
    "```powershell\n",
    "PS D:\\tempcode>  .\\test.exe\n",
    "code 123\n",
    "PS D:\\tempcode> .\\test\n",
    "code 123\n",
    "PS D:\\tempcode>\n",
    "```"
   ]
  },
  {
   "cell_type": "markdown",
   "metadata": {},
   "source": [
    "## 运行全局的命令\n",
    "\n",
    "就是类型为exe的文件路径在Path环境变量中，例如Julia.exe和R.exe。\n",
    "\n",
    "下面演示如何进入Julia和R，如何退出Julia和R。\n",
    "\n",
    "```powershell\n",
    "PS D:\\tempcode> julia\n",
    "               _\n",
    "   _       _ _(_)_     |  Documentation: https://docs.julialang.org\n",
    "  (_)     | (_) (_)    |\n",
    "   _ _   _| |_  __ _   |  Type \"?\" for help, \"]?\" for Pkg help.\n",
    "  | | | | | | |/ _` |  |\n",
    "  | | |_| | | | (_| |  |  Version 1.0.0 (2018-08-08)\n",
    " _/ |\\__'_|_|_|\\__'_|  |  Official https://julialang.org/ release\n",
    "|__/                   |\n",
    "\n",
    "julia> exit()\n",
    "PS D:\\tempcode> julia.exe\n",
    "               _\n",
    "   _       _ _(_)_     |  Documentation: https://docs.julialang.org\n",
    "  (_)     | (_) (_)    |\n",
    "   _ _   _| |_  __ _   |  Type \"?\" for help, \"]?\" for Pkg help.\n",
    "  | | | | | | |/ _` |  |\n",
    "  | | |_| | | | (_| |  |  Version 1.0.0 (2018-08-08)\n",
    " _/ |\\__'_|_|_|\\__'_|  |  Official https://julialang.org/ release\n",
    "|__/                   |\n",
    "\n",
    "julia> exit()\n",
    "PS D:\\tempcode> R.exe\n",
    "\n",
    "R version 3.5.1 (2018-07-02) -- \"Feather Spray\"\n",
    "Copyright (C) 2018 The R Foundation for Statistical Computing\n",
    "Platform: x86_64-w64-mingw32/x64 (64-bit)\n",
    "\n",
    "R\n",
    "\n",
    "'license()''licence()'\n",
    "\n",
    "R.\n",
    "'contributors()'\n",
    "'citation()'RR\n",
    "\n",
    "'demo()''help()'\n",
    "'help.start()'HTML\n",
    "'q()'R.\n",
    "\n",
    "Microsoft R Open 3.5.1\n",
    "The enhanced R distribution from Microsoft\n",
    "Microsoft packages Copyright (C) 2018 Microsoft Corporation\n",
    "\n",
    "Using the Intel MKL for parallel mathematical computing (using 4 cores).\n",
    "\n",
    "Default CRAN mirror snapshot taken on 2018-08-01.\n",
    "See: https://mran.microsoft.com/.\n",
    "\n",
    "> q()\n",
    "是否保存工作空间映像? [y/n/c]: n\n",
    "PS D:\\tempcode>\n",
    "```"
   ]
  }
 ],
 "metadata": {
  "kernelspec": {
   "display_name": "PowerShell",
   "language": "powershell",
   "name": "powershell"
  },
  "language_info": {
   "codemirror_mode": "shell",
   "file_extension": ".ps1",
   "mimetype": "text/x-sh",
   "name": "powershell"
  }
 },
 "nbformat": 4,
 "nbformat_minor": 2
}
